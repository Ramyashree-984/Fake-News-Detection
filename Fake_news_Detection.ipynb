{
 "cells": [
  {
   "cell_type": "markdown",
   "id": "53e09545",
   "metadata": {},
   "source": [
    "# FAKE NEWS DETECTION"
   ]
  },
  {
   "cell_type": "markdown",
   "id": "0d36423f",
   "metadata": {},
   "source": [
    "#### Importing Libraries"
   ]
  },
  {
   "cell_type": "code",
   "execution_count": 1,
   "id": "d28db0a9",
   "metadata": {},
   "outputs": [],
   "source": [
    "import numpy as np\n",
    "import pandas as pd\n",
    "import matplotlib.pyplot as plt\n"
   ]
  },
  {
   "cell_type": "code",
   "execution_count": 2,
   "id": "cbb3a69d",
   "metadata": {},
   "outputs": [
    {
     "data": {
      "text/html": [
       "<div>\n",
       "<style scoped>\n",
       "    .dataframe tbody tr th:only-of-type {\n",
       "        vertical-align: middle;\n",
       "    }\n",
       "\n",
       "    .dataframe tbody tr th {\n",
       "        vertical-align: top;\n",
       "    }\n",
       "\n",
       "    .dataframe thead th {\n",
       "        text-align: right;\n",
       "    }\n",
       "</style>\n",
       "<table border=\"1\" class=\"dataframe\">\n",
       "  <thead>\n",
       "    <tr style=\"text-align: right;\">\n",
       "      <th></th>\n",
       "      <th>URLs</th>\n",
       "      <th>Headline</th>\n",
       "      <th>Body</th>\n",
       "      <th>Label</th>\n",
       "    </tr>\n",
       "  </thead>\n",
       "  <tbody>\n",
       "    <tr>\n",
       "      <th>0</th>\n",
       "      <td>http://www.bbc.com/news/world-us-canada-414191...</td>\n",
       "      <td>Four ways Bob Corker skewered Donald Trump</td>\n",
       "      <td>Image copyright Getty Images\\nOn Sunday mornin...</td>\n",
       "      <td>1</td>\n",
       "    </tr>\n",
       "    <tr>\n",
       "      <th>1</th>\n",
       "      <td>https://www.reuters.com/article/us-filmfestiva...</td>\n",
       "      <td>Linklater's war veteran comedy speaks to moder...</td>\n",
       "      <td>LONDON (Reuters) - “Last Flag Flying”, a comed...</td>\n",
       "      <td>1</td>\n",
       "    </tr>\n",
       "    <tr>\n",
       "      <th>2</th>\n",
       "      <td>https://www.nytimes.com/2017/10/09/us/politics...</td>\n",
       "      <td>Trump’s Fight With Corker Jeopardizes His Legi...</td>\n",
       "      <td>The feud broke into public view last week when...</td>\n",
       "      <td>1</td>\n",
       "    </tr>\n",
       "    <tr>\n",
       "      <th>3</th>\n",
       "      <td>https://www.reuters.com/article/us-mexico-oil-...</td>\n",
       "      <td>Egypt's Cheiron wins tie-up with Pemex for Mex...</td>\n",
       "      <td>MEXICO CITY (Reuters) - Egypt’s Cheiron Holdin...</td>\n",
       "      <td>1</td>\n",
       "    </tr>\n",
       "    <tr>\n",
       "      <th>4</th>\n",
       "      <td>http://www.cnn.com/videos/cnnmoney/2017/10/08/...</td>\n",
       "      <td>Jason Aldean opens 'SNL' with Vegas tribute</td>\n",
       "      <td>Country singer Jason Aldean, who was performin...</td>\n",
       "      <td>1</td>\n",
       "    </tr>\n",
       "    <tr>\n",
       "      <th>...</th>\n",
       "      <td>...</td>\n",
       "      <td>...</td>\n",
       "      <td>...</td>\n",
       "      <td>...</td>\n",
       "    </tr>\n",
       "    <tr>\n",
       "      <th>4004</th>\n",
       "      <td>http://beforeitsnews.com/sports/2017/09/trends...</td>\n",
       "      <td>Trends to Watch</td>\n",
       "      <td>Trends to Watch\\n% of readers think this story...</td>\n",
       "      <td>0</td>\n",
       "    </tr>\n",
       "    <tr>\n",
       "      <th>4005</th>\n",
       "      <td>http://beforeitsnews.com/u-s-politics/2017/10/...</td>\n",
       "      <td>Trump Jr. Is Soon To Give A 30-Minute Speech F...</td>\n",
       "      <td>Trump Jr. Is Soon To Give A 30-Minute Speech F...</td>\n",
       "      <td>0</td>\n",
       "    </tr>\n",
       "    <tr>\n",
       "      <th>4006</th>\n",
       "      <td>https://www.activistpost.com/2017/09/ron-paul-...</td>\n",
       "      <td>Ron Paul on Trump, Anarchism &amp; the AltRight</td>\n",
       "      <td>NaN</td>\n",
       "      <td>0</td>\n",
       "    </tr>\n",
       "    <tr>\n",
       "      <th>4007</th>\n",
       "      <td>https://www.reuters.com/article/us-china-pharm...</td>\n",
       "      <td>China to accept overseas trial data in bid to ...</td>\n",
       "      <td>SHANGHAI (Reuters) - China said it plans to ac...</td>\n",
       "      <td>1</td>\n",
       "    </tr>\n",
       "    <tr>\n",
       "      <th>4008</th>\n",
       "      <td>http://beforeitsnews.com/u-s-politics/2017/10/...</td>\n",
       "      <td>Vice President Mike Pence Leaves NFL Game Beca...</td>\n",
       "      <td>Vice President Mike Pence Leaves NFL Game Beca...</td>\n",
       "      <td>0</td>\n",
       "    </tr>\n",
       "  </tbody>\n",
       "</table>\n",
       "<p>4009 rows × 4 columns</p>\n",
       "</div>"
      ],
      "text/plain": [
       "                                                   URLs  \\\n",
       "0     http://www.bbc.com/news/world-us-canada-414191...   \n",
       "1     https://www.reuters.com/article/us-filmfestiva...   \n",
       "2     https://www.nytimes.com/2017/10/09/us/politics...   \n",
       "3     https://www.reuters.com/article/us-mexico-oil-...   \n",
       "4     http://www.cnn.com/videos/cnnmoney/2017/10/08/...   \n",
       "...                                                 ...   \n",
       "4004  http://beforeitsnews.com/sports/2017/09/trends...   \n",
       "4005  http://beforeitsnews.com/u-s-politics/2017/10/...   \n",
       "4006  https://www.activistpost.com/2017/09/ron-paul-...   \n",
       "4007  https://www.reuters.com/article/us-china-pharm...   \n",
       "4008  http://beforeitsnews.com/u-s-politics/2017/10/...   \n",
       "\n",
       "                                               Headline  \\\n",
       "0            Four ways Bob Corker skewered Donald Trump   \n",
       "1     Linklater's war veteran comedy speaks to moder...   \n",
       "2     Trump’s Fight With Corker Jeopardizes His Legi...   \n",
       "3     Egypt's Cheiron wins tie-up with Pemex for Mex...   \n",
       "4           Jason Aldean opens 'SNL' with Vegas tribute   \n",
       "...                                                 ...   \n",
       "4004                                    Trends to Watch   \n",
       "4005  Trump Jr. Is Soon To Give A 30-Minute Speech F...   \n",
       "4006        Ron Paul on Trump, Anarchism & the AltRight   \n",
       "4007  China to accept overseas trial data in bid to ...   \n",
       "4008  Vice President Mike Pence Leaves NFL Game Beca...   \n",
       "\n",
       "                                                   Body  Label  \n",
       "0     Image copyright Getty Images\\nOn Sunday mornin...      1  \n",
       "1     LONDON (Reuters) - “Last Flag Flying”, a comed...      1  \n",
       "2     The feud broke into public view last week when...      1  \n",
       "3     MEXICO CITY (Reuters) - Egypt’s Cheiron Holdin...      1  \n",
       "4     Country singer Jason Aldean, who was performin...      1  \n",
       "...                                                 ...    ...  \n",
       "4004  Trends to Watch\\n% of readers think this story...      0  \n",
       "4005  Trump Jr. Is Soon To Give A 30-Minute Speech F...      0  \n",
       "4006                                                NaN      0  \n",
       "4007  SHANGHAI (Reuters) - China said it plans to ac...      1  \n",
       "4008  Vice President Mike Pence Leaves NFL Game Beca...      0  \n",
       "\n",
       "[4009 rows x 4 columns]"
      ]
     },
     "execution_count": 2,
     "metadata": {},
     "output_type": "execute_result"
    }
   ],
   "source": [
    "#Reading csv file\n",
    "data = pd.read_csv(\"data.csv\")\n",
    "data"
   ]
  },
  {
   "cell_type": "code",
   "execution_count": 3,
   "id": "abc2cfe8",
   "metadata": {},
   "outputs": [
    {
     "data": {
      "text/html": [
       "<div>\n",
       "<style scoped>\n",
       "    .dataframe tbody tr th:only-of-type {\n",
       "        vertical-align: middle;\n",
       "    }\n",
       "\n",
       "    .dataframe tbody tr th {\n",
       "        vertical-align: top;\n",
       "    }\n",
       "\n",
       "    .dataframe thead th {\n",
       "        text-align: right;\n",
       "    }\n",
       "</style>\n",
       "<table border=\"1\" class=\"dataframe\">\n",
       "  <thead>\n",
       "    <tr style=\"text-align: right;\">\n",
       "      <th></th>\n",
       "      <th>URLs</th>\n",
       "      <th>Headline</th>\n",
       "      <th>Body</th>\n",
       "      <th>Label</th>\n",
       "    </tr>\n",
       "  </thead>\n",
       "  <tbody>\n",
       "    <tr>\n",
       "      <th>0</th>\n",
       "      <td>http://www.bbc.com/news/world-us-canada-414191...</td>\n",
       "      <td>Four ways Bob Corker skewered Donald Trump</td>\n",
       "      <td>Image copyright Getty Images\\nOn Sunday mornin...</td>\n",
       "      <td>1</td>\n",
       "    </tr>\n",
       "    <tr>\n",
       "      <th>1</th>\n",
       "      <td>https://www.reuters.com/article/us-filmfestiva...</td>\n",
       "      <td>Linklater's war veteran comedy speaks to moder...</td>\n",
       "      <td>LONDON (Reuters) - “Last Flag Flying”, a comed...</td>\n",
       "      <td>1</td>\n",
       "    </tr>\n",
       "    <tr>\n",
       "      <th>2</th>\n",
       "      <td>https://www.nytimes.com/2017/10/09/us/politics...</td>\n",
       "      <td>Trump’s Fight With Corker Jeopardizes His Legi...</td>\n",
       "      <td>The feud broke into public view last week when...</td>\n",
       "      <td>1</td>\n",
       "    </tr>\n",
       "    <tr>\n",
       "      <th>3</th>\n",
       "      <td>https://www.reuters.com/article/us-mexico-oil-...</td>\n",
       "      <td>Egypt's Cheiron wins tie-up with Pemex for Mex...</td>\n",
       "      <td>MEXICO CITY (Reuters) - Egypt’s Cheiron Holdin...</td>\n",
       "      <td>1</td>\n",
       "    </tr>\n",
       "    <tr>\n",
       "      <th>4</th>\n",
       "      <td>http://www.cnn.com/videos/cnnmoney/2017/10/08/...</td>\n",
       "      <td>Jason Aldean opens 'SNL' with Vegas tribute</td>\n",
       "      <td>Country singer Jason Aldean, who was performin...</td>\n",
       "      <td>1</td>\n",
       "    </tr>\n",
       "  </tbody>\n",
       "</table>\n",
       "</div>"
      ],
      "text/plain": [
       "                                                URLs  \\\n",
       "0  http://www.bbc.com/news/world-us-canada-414191...   \n",
       "1  https://www.reuters.com/article/us-filmfestiva...   \n",
       "2  https://www.nytimes.com/2017/10/09/us/politics...   \n",
       "3  https://www.reuters.com/article/us-mexico-oil-...   \n",
       "4  http://www.cnn.com/videos/cnnmoney/2017/10/08/...   \n",
       "\n",
       "                                            Headline  \\\n",
       "0         Four ways Bob Corker skewered Donald Trump   \n",
       "1  Linklater's war veteran comedy speaks to moder...   \n",
       "2  Trump’s Fight With Corker Jeopardizes His Legi...   \n",
       "3  Egypt's Cheiron wins tie-up with Pemex for Mex...   \n",
       "4        Jason Aldean opens 'SNL' with Vegas tribute   \n",
       "\n",
       "                                                Body  Label  \n",
       "0  Image copyright Getty Images\\nOn Sunday mornin...      1  \n",
       "1  LONDON (Reuters) - “Last Flag Flying”, a comed...      1  \n",
       "2  The feud broke into public view last week when...      1  \n",
       "3  MEXICO CITY (Reuters) - Egypt’s Cheiron Holdin...      1  \n",
       "4  Country singer Jason Aldean, who was performin...      1  "
      ]
     },
     "execution_count": 3,
     "metadata": {},
     "output_type": "execute_result"
    }
   ],
   "source": [
    "#Basic Checks\n",
    "data.head()"
   ]
  },
  {
   "cell_type": "code",
   "execution_count": 4,
   "id": "02eaf553",
   "metadata": {},
   "outputs": [
    {
     "data": {
      "text/html": [
       "<div>\n",
       "<style scoped>\n",
       "    .dataframe tbody tr th:only-of-type {\n",
       "        vertical-align: middle;\n",
       "    }\n",
       "\n",
       "    .dataframe tbody tr th {\n",
       "        vertical-align: top;\n",
       "    }\n",
       "\n",
       "    .dataframe thead th {\n",
       "        text-align: right;\n",
       "    }\n",
       "</style>\n",
       "<table border=\"1\" class=\"dataframe\">\n",
       "  <thead>\n",
       "    <tr style=\"text-align: right;\">\n",
       "      <th></th>\n",
       "      <th>URLs</th>\n",
       "      <th>Headline</th>\n",
       "      <th>Body</th>\n",
       "      <th>Label</th>\n",
       "    </tr>\n",
       "  </thead>\n",
       "  <tbody>\n",
       "    <tr>\n",
       "      <th>4004</th>\n",
       "      <td>http://beforeitsnews.com/sports/2017/09/trends...</td>\n",
       "      <td>Trends to Watch</td>\n",
       "      <td>Trends to Watch\\n% of readers think this story...</td>\n",
       "      <td>0</td>\n",
       "    </tr>\n",
       "    <tr>\n",
       "      <th>4005</th>\n",
       "      <td>http://beforeitsnews.com/u-s-politics/2017/10/...</td>\n",
       "      <td>Trump Jr. Is Soon To Give A 30-Minute Speech F...</td>\n",
       "      <td>Trump Jr. Is Soon To Give A 30-Minute Speech F...</td>\n",
       "      <td>0</td>\n",
       "    </tr>\n",
       "    <tr>\n",
       "      <th>4006</th>\n",
       "      <td>https://www.activistpost.com/2017/09/ron-paul-...</td>\n",
       "      <td>Ron Paul on Trump, Anarchism &amp; the AltRight</td>\n",
       "      <td>NaN</td>\n",
       "      <td>0</td>\n",
       "    </tr>\n",
       "    <tr>\n",
       "      <th>4007</th>\n",
       "      <td>https://www.reuters.com/article/us-china-pharm...</td>\n",
       "      <td>China to accept overseas trial data in bid to ...</td>\n",
       "      <td>SHANGHAI (Reuters) - China said it plans to ac...</td>\n",
       "      <td>1</td>\n",
       "    </tr>\n",
       "    <tr>\n",
       "      <th>4008</th>\n",
       "      <td>http://beforeitsnews.com/u-s-politics/2017/10/...</td>\n",
       "      <td>Vice President Mike Pence Leaves NFL Game Beca...</td>\n",
       "      <td>Vice President Mike Pence Leaves NFL Game Beca...</td>\n",
       "      <td>0</td>\n",
       "    </tr>\n",
       "  </tbody>\n",
       "</table>\n",
       "</div>"
      ],
      "text/plain": [
       "                                                   URLs  \\\n",
       "4004  http://beforeitsnews.com/sports/2017/09/trends...   \n",
       "4005  http://beforeitsnews.com/u-s-politics/2017/10/...   \n",
       "4006  https://www.activistpost.com/2017/09/ron-paul-...   \n",
       "4007  https://www.reuters.com/article/us-china-pharm...   \n",
       "4008  http://beforeitsnews.com/u-s-politics/2017/10/...   \n",
       "\n",
       "                                               Headline  \\\n",
       "4004                                    Trends to Watch   \n",
       "4005  Trump Jr. Is Soon To Give A 30-Minute Speech F...   \n",
       "4006        Ron Paul on Trump, Anarchism & the AltRight   \n",
       "4007  China to accept overseas trial data in bid to ...   \n",
       "4008  Vice President Mike Pence Leaves NFL Game Beca...   \n",
       "\n",
       "                                                   Body  Label  \n",
       "4004  Trends to Watch\\n% of readers think this story...      0  \n",
       "4005  Trump Jr. Is Soon To Give A 30-Minute Speech F...      0  \n",
       "4006                                                NaN      0  \n",
       "4007  SHANGHAI (Reuters) - China said it plans to ac...      1  \n",
       "4008  Vice President Mike Pence Leaves NFL Game Beca...      0  "
      ]
     },
     "execution_count": 4,
     "metadata": {},
     "output_type": "execute_result"
    }
   ],
   "source": [
    "data.tail()"
   ]
  },
  {
   "cell_type": "code",
   "execution_count": 5,
   "id": "c22ef30b",
   "metadata": {},
   "outputs": [
    {
     "name": "stdout",
     "output_type": "stream",
     "text": [
      "<class 'pandas.core.frame.DataFrame'>\n",
      "RangeIndex: 4009 entries, 0 to 4008\n",
      "Data columns (total 4 columns):\n",
      " #   Column    Non-Null Count  Dtype \n",
      "---  ------    --------------  ----- \n",
      " 0   URLs      4009 non-null   object\n",
      " 1   Headline  4009 non-null   object\n",
      " 2   Body      3988 non-null   object\n",
      " 3   Label     4009 non-null   int64 \n",
      "dtypes: int64(1), object(3)\n",
      "memory usage: 125.4+ KB\n"
     ]
    }
   ],
   "source": [
    "#summary of data\n",
    "data.info()"
   ]
  },
  {
   "cell_type": "code",
   "execution_count": 6,
   "id": "c8ef2a0b",
   "metadata": {},
   "outputs": [
    {
     "data": {
      "text/html": [
       "<div>\n",
       "<style scoped>\n",
       "    .dataframe tbody tr th:only-of-type {\n",
       "        vertical-align: middle;\n",
       "    }\n",
       "\n",
       "    .dataframe tbody tr th {\n",
       "        vertical-align: top;\n",
       "    }\n",
       "\n",
       "    .dataframe thead th {\n",
       "        text-align: right;\n",
       "    }\n",
       "</style>\n",
       "<table border=\"1\" class=\"dataframe\">\n",
       "  <thead>\n",
       "    <tr style=\"text-align: right;\">\n",
       "      <th></th>\n",
       "      <th>Label</th>\n",
       "    </tr>\n",
       "  </thead>\n",
       "  <tbody>\n",
       "    <tr>\n",
       "      <th>count</th>\n",
       "      <td>4009.000000</td>\n",
       "    </tr>\n",
       "    <tr>\n",
       "      <th>mean</th>\n",
       "      <td>0.466949</td>\n",
       "    </tr>\n",
       "    <tr>\n",
       "      <th>std</th>\n",
       "      <td>0.498969</td>\n",
       "    </tr>\n",
       "    <tr>\n",
       "      <th>min</th>\n",
       "      <td>0.000000</td>\n",
       "    </tr>\n",
       "    <tr>\n",
       "      <th>25%</th>\n",
       "      <td>0.000000</td>\n",
       "    </tr>\n",
       "    <tr>\n",
       "      <th>50%</th>\n",
       "      <td>0.000000</td>\n",
       "    </tr>\n",
       "    <tr>\n",
       "      <th>75%</th>\n",
       "      <td>1.000000</td>\n",
       "    </tr>\n",
       "    <tr>\n",
       "      <th>max</th>\n",
       "      <td>1.000000</td>\n",
       "    </tr>\n",
       "  </tbody>\n",
       "</table>\n",
       "</div>"
      ],
      "text/plain": [
       "             Label\n",
       "count  4009.000000\n",
       "mean      0.466949\n",
       "std       0.498969\n",
       "min       0.000000\n",
       "25%       0.000000\n",
       "50%       0.000000\n",
       "75%       1.000000\n",
       "max       1.000000"
      ]
     },
     "execution_count": 6,
     "metadata": {},
     "output_type": "execute_result"
    }
   ],
   "source": [
    "#stastical information of data\n",
    "data.describe()"
   ]
  },
  {
   "cell_type": "code",
   "execution_count": 7,
   "id": "3a273ec7",
   "metadata": {},
   "outputs": [
    {
     "data": {
      "text/plain": [
       "URLs         0\n",
       "Headline     0\n",
       "Body        21\n",
       "Label        0\n",
       "dtype: int64"
      ]
     },
     "execution_count": 7,
     "metadata": {},
     "output_type": "execute_result"
    }
   ],
   "source": [
    "#missing values \n",
    "data.isnull().sum()"
   ]
  },
  {
   "cell_type": "code",
   "execution_count": 8,
   "id": "2736d88f",
   "metadata": {},
   "outputs": [
    {
     "data": {
      "text/plain": [
       "array(['Image copyright Getty Images\\nOn Sunday morning, Donald Trump went off on a Twitter tirade against a member of his own party.\\nThis, in itself, isn\\'t exactly huge news. It\\'s far from the first time the president has turned his rhetorical cannons on his own ranks.\\nThis time, however, his attacks were particularly biting and personal. He essentially called Tennessee Senator Bob Corker, the chair of the powerful Senate Foreign Relations Committee, a coward for not running for re-election.\\nHe said Mr Corker \"begged\" for the president\\'s endorsement, which he refused to give. He wrongly claimed that Mr Corker\\'s support of the Iranian nuclear agreement was his only political accomplishment.\\nUnlike some of his colleagues, Mr Corker - free from having to worry about his immediate political future - didn\\'t hold his tongue.\\nSkip Twitter post by @SenBobCorker It\\'s a shame the White House has become an adult day care center. Someone obviously missed their shift this morning. — Senator Bob Corker (@SenBobCorker) October 8, 2017 Report\\nThat wasn\\'t the end of it, though. He then spoke with the New York Times and really let the president have it. Here are four choice quotes from the Tennessee senator\\'s interview with the Times and why they are particularly damning.\\n\"I don\\'t know why the president tweets out things that are not true. You know he does it, everyone knows he does it, but he does.\"\\nYou can\\'t really sugarcoat this one. Mr Corker is flat-out saying the president is a liar - and everyone knows it.\\nThe senator, in particular, is challenging Mr Trump\\'s insistence that he unsuccessfully pleaded for his endorsement, but the accusation is much broader.\\nMr Corker and the president used to be something akin to allies. The Tennessean was on Mr Trump\\'s short list for vice-president and secretary of state.\\nImage copyright Getty Images Image caption Bob Corker at Trump campaign rally in July 2016\\nThose days are seemingly very much over now - and it\\'s not like Mr Corker is going anywhere anytime soon. Although he\\'s not running for re-election, he\\'ll be in the Senate, chairing a powerful committee, until January 2019.\\nThe president\\'s margin for success in that chamber is razor-thin. If Democrats can continue to stand together in opposition, he can afford to lose only two votes out of 52 Republican senators. That\\'s why healthcare reform collapsed in July - and it could be bad news for tax efforts.\\nFrom here on out, Mr Corker isn\\'t going to do the president any favours.\\n\"Look, except for a few people, the vast majority of our caucus understands what we\\'re dealing with here.\"\\nFrustration in Congress has been growing over what Republicans feel has been the president\\'s inability to focus on advancing their agenda. Getting a sharply divided party to come together on plans to repeal Obamacare, reform taxes or boost infrastructure spending is challenging enough. Doing so when the president stirs up unrelated controversies on a seemingly daily basis makes things all the harder.\\nOne of the president\\'s gifts has been his ability to shake off negative stories by quickly moving on to a different subject. That worked brilliantly during his presidential campaign, but it\\'s less effective during the legislative slow grind.\\nImage copyright Getty Images Image caption Corker at the confirmation hearing for Secretary of State Rex Tillerson\\nFor months, Republicans in Congress have been grumbling about this in the background and among themselves. Occasionally, someone like Mr McConnell will lament that the president doesn\\'t understand how the Senate works.\\nMr Corker has now stated it loud and clear. And, what\\'s more, he says almost everyone agrees with him. They\\'ve kept silent until now because they still hope to pass conservative legislation that the president can sign or fear Mr Trump\\'s legions will back a primary challenge next year or stay home during the general election.\\nIf that calculus ever changes - if it becomes riskier to stay silent than speak out - Mr Trump will be in real trouble.\\n\"A lot of people think that there is some kind of \\'good cop, bad cop\\' act underway, but that\\'s just not true.\"\\nTime and again, Mr Trump has appeared to undercut Secretary of State Rex Tillerson and others in his administration who are attempting to use soft diplomacy to deal with a range of international crises.\\nThe war against the Taliban in Afghanistan, Iran\\'s compliance with the multinational nuclear agreement, the ongoing dispute between Qatar and its Persian Gulf neighbours, the unrest in Venezuela and, most recently, North Korea\\'s continued ballistic missile tests have all been the target of the president\\'s offhand remarks and Twitter invective.\\nSome administration defenders have said this is all a part of Mr Trump\\'s strategy - an updated version of the Nixon-era \"madman theory\", in which the president forces adversaries to give way because they fear an unpredictable US leader\\'s actions.\\nMr Corker isn\\'t buying it. There\\'s no strategy, he says, just the possibility of chaos - which he hopes Mr Trump\\'s senior advisers will be able to avoid.\\n\"I know for a fact that every single day at the White House, it\\'s a situation of trying to contain him.\"\\nThere\\'s now a growing collection of John Kelly face-palm photos that serve as a testament to the chief-of-staff\\'s reported frustration at dealing with the president.\\nMr Trump goes off-script to praise torch-bearing white nationalists at a rally in Charlottesville, and Mr Kelly is captured closing his eyes and rubbing the arch of his nose, as if attempting to stave off a migraine.\\nImage copyright Reuters Image caption White House Chief of Staff John Kelly looks on as US President Donald Trump speaks at a campaign rally\\nThe president calls North Korean leaders \"criminals\" in a speech to the United Nations, and Mr Kelly straight-up buries his face in his hands.\\nThe White House communications team is often left scrambling to try to explain or reframe an indelicate presidential \"joke\" or remark that directly contradicts what was until then the official administration line.\\nEven though Mr Kelly has brought some discipline to the West Wing staff, the president still marches to the beat of his own drum - and continues to have unfettered access to his phone\\'s Twitter app.\\nBob Corker is only the latest person - politician, journalist, sports star or celebrity - to feel the mercurial president\\'s uncontainable ire.',\n",
       "       'LONDON (Reuters) - “Last Flag Flying”, a comedy-drama about Vietnam war veterans, will resonate with Trump’s America, despite, or perhaps because of, its period setting, actor Bryan Cranston said on Sunday after a screening at the London Film Festival.\\nSet in the United States in December 2003 – when U.S. forces in Iraq were dragging Saddam Hussein out of a “spider hole” - it is the story of three ageing former servicemen who reunite to bury the son of one of them who has been killed in action.\\nWith President Donald Trump saying he could “totally destroy” North Korea and characterizing a dinner with military commanders as “the calm before the storm”, Cranston said “Last Flag Flying” was a timely reminder of the effect on normal Americans of ill-advised military campaigns.\\n“I think it has a lot of relevance today in the sense that (today) it’s not clear cut as far as the (what are the) intentions of the government or military,” Cranston, acclaimed for his lead role in the TV drama “Breaking Bad”, told Reuters.\\n“In World War Two, it was the ‘good war’, it was clear and present danger, we had to stop this mad man. Since then, with Vietnam and Iraq, (there are) a lot of questions ... among the troops and the citizens as to if we are doing the right thing and what is the purpose of our being there.”\\nCast member Bryan Cranston (R) and director Richard Linklater pose with festival director Claire Stewart as they arrive for the premiere of \"Last Flag Flying\" during the British Film Institute (BFI) London Film Festival at the Odeon, Leicester Square, in London, Britain October 8, 2017. REUTERS/Afolabi Sotunde\\n“Last Flag Flying” was produced by Amazon Studios and directed and co-written by Richard Linklater, whose greatest critical acclaim has been for the naturalistic “Before Sunset” trilogy and the 2014 “Boyhood” which won a slew of Oscar nominations.\\nLinklater also made comedies including “School of Rock” and “Everybody Wants Some!!”, about skirt-chasing undergraduates. “Last Flag Flying” falls somewhere between the two genres.\\nCast member Bryan Cranston (R) poses with director Richard Linklater as they arrive for the premiere of \"Last Flag Flying\" during the British Film Institute (BFI) London Film Festival at the Odeon, Leicester Square, in London, Britain October 8, 2017. REUTERS/Afolabi Sotunde\\nThe drama and comedy stem from the chemistry between the three leads, each played by a big Hollywood name.\\nSteve Carell is the awkward shy one who, we assume, was quiet and withdrawn even before the loss of his son. Cranston plays a foul-mouthed, hard-drinking bar owner who is his own best customer, and Laurence Fishburne, is a man who has found God and become an evangelical preacher, preferring to forget the sex and drugs they all indulged in back in ‘Nam.\\nVanity Fair’s Richard Lawson said the film’s ability to honor the footsoldiers while being critical of the wars they are sent to fight, could hit “an Academy sweet spot, satisfying both the more conservative oldsters and the younger, leftier types.”\\nOther critics said “Last Flag Flying” lacked the light touch of Linklater’s best work. The Guardian’s Benjamin Lee called it “a half-baked TV movie masquerading as Oscarbait, a curious misstep for the Oscar-nominated indie auteur”.\\nWriting by Robin Pomeroy, editing by David Evans',\n",
       "       \"The feud broke into public view last week when Mr. Corker said that Mr. Trump’s advisers were guarding against “chaos.” The president retaliated on Sunday by saying the retiring senator “didn’t have the guts to run” for another term. Mr. Corker responded on Twitter an hour later, saying that the White House had become an “adult day care center.”\\nHe then unloaded in an interview with The New York Times, saying in public what many of his Republican colleagues say in private — that the president is dangerously erratic, treats his high office like “a reality show,” has to be contained by his staff and is reckless enough to put the country “on the path to World War III.”\\nMr. Corker, a moderate by temperament as well as ideology, had measured his occasional criticisms of Mr. Trump for months in hopes of influencing his foreign policy, but evidently feels liberated now that he has decided not to run for a third term.\\nFew other incumbent Republicans rushed to the microphones to echo his comments on Monday, but several made little attempt to hide their irritation at Mr. Trump for attacking Mr. Corker.\\n“He’s an important part of our team, and he’s a particularly important part of the budget debate, which will be on the floor next week,” Mr. McConnell said pointedly at an event in Hazard, Ky., with Scott Pruitt, the head of the Environmental Protection Agency.\\n“Bob Corker has been a leader in Congress on issues as diverse as deficit reduction and combating terrorism, and he is a man of unwavering integrity,” Senator Rob Portman, Republican of Ohio, said in a statement. “If we’re going to accomplish our economic and national security agenda we’re going to have to work together, period.”\\nMr. McConnell’s associates were blunter in expressing the leadership’s frustration with the president for disrupting party unity as Republicans push for tax cuts. “This was going to be hard no matter what,” said Billy Piper, Mr. McConnell’s former chief of staff. “And he took the guy who was one of the linchpins of this and incinerated him for no reason.”\\nAdvertisement Continue reading the main story\\nThe White House spent Monday telling allies that Mr. Corker was responsible for the fight, not Mr. Trump, and that the senator was an attention-seeking obstructionist.\\nNewsletter Sign Up Continue reading the main story Please verify you're not a robot by clicking the box. Invalid email address. Please re-enter. You must select a newsletter to subscribe to. Sign Up You agree to receive occasional updates and special offers for The New York Times's products and services. Thank you for subscribing. An error has occurred. Please try again later. View all New York Times newsletters.\\n“I find tweets like this to be incredibly irresponsible,” Kellyanne Conway, the president’s counselor, told Fox News, referring to Mr. Corker’s posted response to Mr. Trump on Sunday. “It adds to the insulting that the mainstream media and the president’s detractors — almost a year after this election, they still can’t accept the election results. It adds to their ability and their cover to speak about the president of the United States in ways that no president should be talked about.”\\nVice President Mike Pence was left to defend Mr. Trump against what he called “empty rhetoric and baseless attacks,” saying the president had accomplished a lot internationally. “Today our nation once again stands without apology as leader of the free world,” Mr. Pence said in a statement. “That’s what American leadership on the world stage looks like and no amount of criticism at home can diminish those results.”\\nMr. Trump has grown frustrated by Senate Republicans — including lashing out at Mr. McConnell for not getting the job done — as legislation to repeal President Barack Obama’s health care program has been repeatedly blocked. He has engaged in open conflicts with Senators John McCain and Jeff Flake of Arizona, Lindsey Graham of South Carolina and Lisa Murkowski of Alaska, among others, although just Monday he went golfing with Mr. Graham.\\nSome Republican senators share Mr. Trump’s frustration with gridlock in the Senate. “We want things to move quickly,” said Senator Thom Tillis of North Carolina, who was elected in 2014. “People are frustrated with the lack of results.”\\nSenator David Perdue of Georgia, another member of the 2014 class, has been even more outspoken in venting about fellow Republicans derailing health care legislation. “People are very upset that Republican senators are not backing the agenda of this president,” he said.\\nMr. Trump’s former chief strategist, Stephen K. Bannon, acting in what he says is the president’s interest, is organizing a rebellion against the Republican establishment and recruiting candidates to challenge incumbent senators in primaries next year. “This is what they think about President Trump behind closed doors,” Mr. Bannon said on Fox News on Monday night, referring to Mr. Corker’s comments and calling on the senator to resign. Mr. Pence’s chief of staff has talked about a “purge” of Republicans who are not loyal to Mr. Trump.\\nThat may keep more Republicans on board even if they agree with Mr. Corker.\\n“Do most senators have their doubts about the president?” asked John Feehery, a longtime Republican congressional aide. “That’s probably true, but also largely irrelevant. He’s the president, and they have to find ways to get stuff done with him. Otherwise, they face the wrath of the voters — something Bob Corker no longer worries about.”\\nIn effect, Mr. McCain, Ms. Murkowski and Senator Susan Collins of Maine already were free agents on many issues. Regular defections by Mr. Corker would make the president’s ability to pass legislation that much harder, absent bipartisan deals with Democrats.\\nAdvertisement Continue reading the main story\\nAs chairman of the Senate Foreign Relations Committee, Mr. Corker could block the confirmation of a new secretary of state should Mr. Trump push out his embattled chief diplomat, Rex W. Tillerson. He also, presumably, would play a key role in any decision on whether to tear up the Iran nuclear deal.\\n“Senate Republicans’ frustrations with Trump are starting to boil over,” said Alex Conant, a former Senate Republican aide. “I’m sure the feelings are mutual inside the White House. The relationship was always tenuous at best, but Corker’s comments are a new low point.”\\n“If they were getting a lot done, it would be easier for everyone to get along,” Mr. Conant said. “Of course, the fact that they’re not getting along also makes it harder to get anything done.”\",\n",
       "       ...,\n",
       "       \"Trump Jr. Is Soon To Give A 30-Minute Speech For $100,000\\n% of readers think this story is Fact. Add your two cents.\\n(Before It's News)\\nDonald Trump Jr. is being paid $100,000 to give a speech at a Texas university. The fee is double what he made when his father was not the president.\\nSource: http://www.carbonated.tv/news/trump-jr-hundred-thousand-dollar-speech-university-north-texas\",\n",
       "       'SHANGHAI (Reuters) - China said it plans to accept data from overseas clinical trials to speed up approvals of drugs, a potential boon for international drugmakers as well as patients who often face lengthy delays for new medicines to reach the market.\\nThe move, outlined by the Cabinet late on Sunday, seeks to address high medicine costs and access to healthcare for China’s population of nearly 1.4 billion. In the past five years, China has approved just over 100 innovative new drugs, about one-third the number in developed markets.\\nAccepting overseas clinical data will help global drugmakers at time of growing competition from Chinese rivals in the world’s second-biggest pharmaceuticals market as well as pressure from authorities which are anxious to rein in prices.\\n“Overall, China’s support for scientific innovation with drugs and medical devices is lacking, and the quality of products on the market still falls short of top international levels,” the draft proposals said.\\n“We must speed up the examination and approval of urgently needed drugs and medical devices.”\\nThe Cabinet also said it would look to improve the protection of medical intellectual property and boost the number and quality of clinical trial testing centers in China. The proposals contained no timeline for implementation.\\n“We want to make our drug industry large-scale and strong, make it more competitive, and shift our long-term reliance on imports of new drugs,” Wu Zhen, deputy head of the China Food and Drug Administration, told a briefing on Monday.\\n“(Some drugs) have been used overseas for 6-7 years before making it to market in China,” Wu added.\\nChina in March proposed ways to speed up approvals for imported drugs, including reforming clinical trial requirements. It also wants to boost its own drug industry and see a shift from generic drugs and towards more innovative medicines and medical equipment.\\nReporting by Adam Jourdan; Editing by Richard Borsuk and Edwina Gibbs',\n",
       "       \"Vice President Mike Pence Leaves NFL Game Because of Anti-American Protests\\n% of readers think this story is Fact. Add your two cents.\\n(Before It's News)\\nBy Donn Marten -\\nVice President Mike Pence was to have attended today’s National Football League game between the Indianapolis Colts and San Francisco 49ers but chose to leave after several players chose to use his presence to make an anti-American political statement.\\nCDN – http://www.conservativedailynews.com\\nThe Colts were to have honored longtime player and future Hall of Fame quarterback Peyton Manning during a ceremony but while the home team respected the flag by standing, the actions of the opposing San Francisco 49ers were seen as sufficiently disrespectful to the Veep that he departed the venue before kickoff.\\nAs reported by Indianapolis Fox affiliate Fox 59 “VP Mike Pence leaves Colts game because 49ers players knelt during anthem”:\\nVice President Mike Pence decided to leave the Indianapolis Colts game Sunday because some 49ers players knelt during the national anthem. In a tweet, the former Indiana governor said “I left today’s Colts game because @POTUS and I will not dignify any event that disrespects our soldiers, our Flag, or our National Anthem.” Minutes after that tweet, his office released a full statement. “I left today’s Colts game because President Trump and I will not dignify any event that disrespects our soldiers, our Flag, or our National Anthem. At a time when so many Americans are inspiring our nation with their courage, resolve, and resilience, now, more than ever, we should rally around our Flag and everything that unites us. While everyone is entitled to their own opinions, I don’t think it’s too much to ask NFL players to respect the Flag and our National Anthem. I stand with President Trump, I stand with our soldiers, and I will always stand for our Flag and our National Anthem.” It was announced Friday that Pence would attend the game with the second lady. The game is special, because Peyton Manning’s jersey will be retired at halftime and he will be inducted into the Ring of Honor. Before the game, he tweeted that he was looking forward to honor “the great career of #18 Peyton Manning.” Pence’s actions will no doubt be seized on by those who have polluted the NFL with their racial grievances and hatred of President Trump as “proof” that he stands for white supremacy and Nazism but he was dead right to leave and many of the other fans in attendance should have done so as well instead of being subjected to the politics of radical leftist racial grievance mongers that have driven the league’s popularity to historic lows.\\nThe Vice President expressed the following via Twitter:\\n52m Vice President Pence ✔@VP Replying to @VP While everyone is entitled to their own opinions, I don’t think it’s too much to ask NFL players to respect the Flag and our National Anthem\\nVice President Pence ✔@VP I left today’s Colts game because @POTUS and I will not dignify any event that disrespects our soldiers, our Flag, or our National Anthem. 11:08 AM – Oct 8, 2017\\nPence was formerly the Governor of Indiana.\\nIt’s just what the NFL needed too, even more negative publicity before the early games even kicked off.\\nREAD MORE\\nVice President Mike Pence Leaves NFL Game Because of Anti-American Protests is original content from Conservative Daily News – Conservative Daily News – Where Americans go for news, current events and commentary they can trust.\\nCDN – http://www.conservativedailynews.com\\nSource: https://www.conservativedailynews.com/2017/10/vice-president-mike-pence-leaves-nfl-game-anti-american-protests/\"],\n",
       "      dtype=object)"
      ]
     },
     "execution_count": 8,
     "metadata": {},
     "output_type": "execute_result"
    }
   ],
   "source": [
    "#getting unique values in Body column\n",
    "data.Body.unique()"
   ]
  },
  {
   "cell_type": "code",
   "execution_count": 9,
   "id": "b2e320b2",
   "metadata": {},
   "outputs": [
    {
     "data": {
      "text/plain": [
       "A Potato Battery Can Light up a Room for Over a Month DIY (System That Can Be Used to Provide Rooms With LED-Powered Lighting for as Long as 40 days) +Video                                                                                                                                                                                                                                                                                                                                                                                                                                                                                                                                                                                                                                                                                                                                                                                                                                                                                                                                                                                                                                                                                                                                                                                                                                                                                                                                                                                                                                                                                                                                                                                                                                                                                                                                                                                                                                                                                                                                                                                                                                                                                                                                                                                                                                                                                                                                                                                                                                                                                                                                                                                                                                                                                                                                                                                                                                                                                                                                                                                                                                                                                                                                                                                                                                                                                                                                                                                                                                                                                                                                                                                                                                                                                                                                                                                                                                                                                                                                                                                                                                                                                                                                                                                                                                                                                                                                                                                                                                                                                                                                                                                                                                                                                                                                                                                                                                                                                                                                                                                                                                                                                                                                                          143\n",
       "An Embattled Pharmaceutical Company That Sells the Powerful Painkiller Fentanyl Has Donated $500,000 to Campaign Opposing Pot Legalization, Pro-Legalization Campaign Says 'We Are Truly Shocked.' (Video)                                                                                                                                                                                                                                                                                                                                                                                                                                                                                                                                                                                                                                                                                                                                                                                                                                                                                                                                                                                                                                                                                                                                                                                                                                                                                                                                                                                                                                                                                                                                                                                                                                                                                                                                                                                                                                                                                                                                                                                                                                                                                                                                                                                                                                                                                                                                                                                                                                                                                                                                                                                                                                                                                                                                                                                                                                                                                                                                                                                                                                                                                                                                                                                                                                                                                                                                                                                                                                                                                                                                                                                                                                                                                                                                                                                                                                                                                                                                                                                                                                                                                                                                                                                                                                                                                                                                                                                                                                                                                                                                                                                                                                                                                                                                                                                                                                                                                                                                                                                                                                                                                                            121\n",
       "Red Flag Warning: These California Wildfires Are ‘Among The Most Destructive Fire Events In US History’ And They Are About To Get Even Worse                                                                                                                                                                                                                                                                                                                                                                                                                                                                                                                                                                                                                                                                                                                                                                                                                                                                                                                                                                                                                                                                                                                                                                                                                                                                                                                                                                                                                                                                                                                                                                                                                                                                                                                                                                                                                                                                                                                                                                                                                                                                                                                                                                                                                                                                                                                                                                                                                                                                                                                                                                                                                                                                                                                                                                                                                                                                                                                                                                                                                                                                                                                                                                                                                                                                                                                                                                                                                                                                                                                                                                                                                                                                                                                                                                                                                                                                                                                                                                                                                                                                                                                                                                                                                                                                                                                                                                                                                                                                                                                                                                                                                                                                                                                                                                                                                                                                                                                                                                                                                                                                                                                                                                          119\n",
       "Warning Something Big Is About to Happen in America the Martial Law Is Coming – 100% Chance it Will Happen ( Red List and Blue List)                                                                                                                                                                                                                                                                                                                                                                                                                                                                                                                                                                                                                                                                                                                                                                                                                                                                                                                                                                                                                                                                                                                                                                                                                                                                                                                                                                                                                                                                                                                                                                                                                                                                                                                                                                                                                                                                                                                                                                                                                                                                                                                                                                                                                                                                                                                                                                                                                                                                                                                                                                                                                                                                                                                                                                                                                                                                                                                                                                                                                                                                                                                                                                                                                                                                                                                                                                                                                                                                                                                                                                                                                                                                                                                                                                                                                                                                                                                                                                                                                                                                                                                                                                                                                                                                                                                                                                                                                                                                                                                                                                                                                                                                                                                                                                                                                                                                                                                                                                                                                                                                                                                                                                                  105\n",
       "Vietnam Is in Great Danger, You Must Publish and Tell Your Army and Government Now!                                                                                                                                                                                                                                                                                                                                                                                                                                                                                                                                                                                                                                                                                                                                                                                                                                                                                                                                                                                                                                                                                                                                                                                                                                                                                                                                                                                                                                                                                                                                                                                                                                                                                                                                                                                                                                                                                                                                                                                                                                                                                                                                                                                                                                                                                                                                                                                                                                                                                                                                                                                                                                                                                                                                                                                                                                                                                                                                                                                                                                                                                                                                                                                                                                                                                                                                                                                                                                                                                                                                                                                                                                                                                                                                                                                                                                                                                                                                                                                                                                                                                                                                                                                                                                                                                                                                                                                                                                                                                                                                                                                                                                                                                                                                                                                                                                                                                                                                                                                                                                                                                                                                                                                                                                    91\n",
       "                                                                                                                                                                                                                                                                                                                                                                                                                                                                                                                                                                                                                                                                                                                                                                                                                                                                                                                                                                                                                                                                                                                                                                                                                                                                                                                                                                                                                                                                                                                                                                                                                                                                                                                                                                                                                                                                                                                                                                                                                                                                                                                                                                                                                                                                                                                                                                                                                                                                                                                                                                                                                                                                                                                                                                                                                                                                                                                                                                                                                                                                                                                                                                                                                                                                                                                                                                                                                                                                                                                                                                                                                                                                                                                                                                                                                                                                                                                                                                                                                                                                                                                                                                                                                                                                                                                                                                                                                                                                                                                                                                                                                                                                                                                                                                                                                                                                                                                                                                                                                                                                                                                                                                                                                                                                                                                     ... \n",
       "University Under Fire For Excluding Women From Feminism Panel\\n% of readers think this story is Fact. Add your two cents.\\n(Before It's News)\\nOne of Mexico’s most famous and accomplished feminists is behind this particular event, so why is she only having men participate and talk about feminism?\\nSource: http://www.carbonated.tv/news/university-under-fire-for-excluding-women-from-feminism-panel                                                                                                                                                                                                                                                                                                                                                                                                                                                                                                                                                                                                                                                                                                                                                                                                                                                                                                                                                                                                                                                                                                                                                                                                                                                                                                                                                                                                                                                                                                                                                                                                                                                                                                                                                                                                                                                                                                                                                                                                                                                                                                                                                                                                                                                                                                                                                                                                                                                                                                                                                                                                                                                                                                                                                                                                                                                                                                                                                                                                                                                                                                                                                                                                                                                                                                                                                                                                                                                                                                                                                                                                                                                                                                                                                                                                                                                                                                                                                                                                                                                                                                                                                                                                                                                                                                                                                                                                                                                                                                                                                                                                                                                                                                                                                                                                                                                                                                          1\n",
       "Mr. Greenspan is also no stranger to lengthy events, having starred as Mephistopheles in Target Margin’s six-hour “Faust.” Yet “Strange Interlude” is something else entirely. As Jonathan Kalb, a professor at Hunter College who has written a book on marathon performances, put it: “Most solo shows, the better ones, are 90 minutes tops. More than that, boy, you’re risking everything.”\\nPhoto\\nThis “Strange Interlude” won’t be the longest straight play staged in New York in recent years — that honor belongs to Elevator Repair Service’s eight-hour “Gatz.” It’s certainly not the longest solo, clocking in at only a quarter of the length of Taylor Mac’s “A 24-Decade History of Popular Music.” But it is an occasionally lurid interwar ragout of sex, death and boat races. It is also probably one of the last times anyone decided to name a dashing romantic swain Gordon. Censored in New York and banned in Boston, the play nevertheless became an unlikely Broadway hit.\\nO’Neill joked that if the play were a sandwich it would be “a four-decker with nothing but ham.”\\nMr. Greenspan has been chewing on that for a while now. In the summer of 2013, he, Transport Group’s artistic director, Jack Cummings III, its dramaturge Krista Corcoran Williams and a couple of associates met for an artistic residency in upstate New York. They’d all enjoyed working together on “The Patsy.” Now they wanted a project “to go deeper and further with,” Ms. Williams said.\\nSo Mr. Greenspan read “Strange Interlude” aloud, which took him seven or eight hours. And the company agreed to produce it. Mr. Greenspan has been rehearsing ever since.\\nThe published script runs 190 pages. Mr. Greenspan worked through the acts one at a time, putting in four to five hours a day, five to six days a week even while rehearsing, performing and touring other plays. Last year, Mr. Cummings gave him a cameo in his William Inge double-bill just to keep Mr. Greenspan around and on salary while he worked. This summer, while appearing in “Minor Character” in Connecticut, he requested a rehearsal space as part of his contract. “I had to memorize Act 8,” he said.\\nMostly, Mr. Greenspan works at home, in the small one-bedroom in Westbeth Artists Housing that he shares with his partner, the teacher and painter William Kennon. He moves their furniture around to replicate the set and takes breathers to feed their two cats and one German Shepherd. Sometimes he borrows Mr. Kennon’s painting studio.\\nNewsletter Sign Up Continue reading the main story Subscribe to the Theater Newsletter Every week, stay on top of the latest news, interviews and reviews from Broadway and beyond. Please verify you're not a robot by clicking the box. Invalid email address. Please re-enter. You must select a newsletter to subscribe to. Sign Up You agree to receive occasional updates and special offers for The New York Times's products and services. Thank you for subscribing. An error has occurred. Please try again later. View all New York Times newsletters.\\nOn a good five-hour day, he can learn perhaps two pages. But often it’s less. “Line by line,” he said. “Sometimes you learn just a few words, sometimes a sentence. It’s very deliberate.” Ms. Williams, who has often observed him, described the process as “mind-numbing and thrilling in kind of equal measure.”\\nAdvertisement Continue reading the main story\\nMr. Greenspan prizes accuracy. In rehearsal he scolded himself for missing “and” in one sentence, “the” in another. But for him, memorizing means more than rote learning or brute-force drills. It means discovering in each line “what the intentions are, what the feeling is, what the state of being is, what the emotional state is,” he said.\\nHe tries to make his characters as full and real as possible, figuring out how they move, how they think, how they sound. From there he develops a map of each act, “like making up a dance in a way,” he said, a dance he then fine-tunes with Mr. Cummings and his team.\\nSitting in the rehearsal room, he cycled though some of this choreography. He stuffed his hands into his pockets for Ned, then gave his neck a sensual stroke as Ned’s lover, Nina, then knit his fingers as Nina’s forbidding father, Professor Leeds. Each character was conjured with what looked like minimal effort and eerie, easy grace. Then Mr. Greenspan stood and played the bit where Ned hands the prescription to Sam. One man moved to offer it; another snatched it away. The effect was delightful, and also unnerving.\\nMs. Williams said that watching the full production can feel “like you’re either on drugs or experiencing some kind of religious reckoning.”\\n“There is something that happens when you’re in the room that long with one person doing something this audacious,” she continued.\\nFor Mr. Greenspan, the effects are mellower. When he finishes a run-through he feels “good afterward,” he said, “neither tired or exhilarated.” And if there is lingering excitement “a little herbal tea will, I think, handle that.”                                                                                                       1\n",
       "What Psoriasis Does to Your Heart By Marijke Vroomen Durning, RN\\nWas this helpful? ( 88 )\\nPsoriasis is a chronic inflammatory autoimmune disease. People with psoriasis develop patches on their skin that can be scaly, red, very itchy and painful. But while psoriasis is a skin disease, it can also affect other parts of your body—including your heart.\\nHow can psoriasis affect the heart?\\nSince psoriasis is an inflammatory disease, over time the inflammation inside your body can cause damage to your blood vessels and your organs, like your heart. As the damage progresses, your risk for cardiovascular disease and stroke increases. Statistics show that people with psoriasis have three times the risk of having a heart attack than people who don’t have psoriasis, and the more severe the psoriasis, the higher the risk.\\nMedical Reviewer: William C. Lloyd III, MD, FACS Last Review Date: Apr 18, 2017 2017 Healthgrades Operating Company, Inc. All rights reserved. May not be reproduced or reprinted without permission from Healthgrades Operating Company, Inc. Use of this information is governed by the Healthgrades User Agreement.\\nPeople with psoriasis are also prone to developing some other illnesses, which are risks themselves for heart disease, such as:\\nObesity\\nType 2 diabetes\\nHypertension (high blood pressure)\\nMetabolic syndrome\\nWhat causes the complications to the heart?\\nLong-term inflammation in your arteries leads to damage in the arterial walls. This can lead to atherosclerosis, or hardening of the arteries. When there is damage along your arterial wall, substances in your blood, such as low-density lipoprotein cholesterol (LDL), can hook on to the wall and become stuck, narrowing the blood vessel. As it becomes harder for your blood to flow past the obstruction, your heart has to work harder, leading to heart disease. Fatty deposits stuck to the wall could also break off and travel through your blood stream to your heart or brain, causing a heart attack or stroke. Additionally, chronic smoldering inflammation anywhere in the body leads to elevated levels of chemical mediators that are directly related to atherosclerotic heart disease.\\nResearchers have also found other problems that are unique to people with psoriasis and may increase their heart disease risk:\\nPeople with psoriasis have thicker, denser LDL that can clog up more easily\\nThey don’t have as much “good” cholesterol, high-density lipoprotein (HDL), which works against LDL\\nThey may take medications, such as acitretin (Soriatane), that can increase LDL and decrease HDL\\nCombined with the higher risk people with psoriasis have for obesity, type 2 diabetes, hypertension or metabolic syndrome, all patients with psoriasis need to take steps to prevent heart complications.\\nHow can heart problems caused by psoriasis be prevented?\\nYou can help reduce your risk of heart disease, a heart attack, or stroke caused by psoriasis by managing your illness as well as possible, and by living a healthy lifestyle. Along with your doctor’s advice, here are some ways you can help yourself:\\nFollow your psoriasis treatment plan : Take your medications as prescribed by your doctor to treat your psoriasis. If you have any concerns about the drugs, speak with your doctor or pharmacist. Don’t stop treatment without discussing it first with your doctor.\\nEat a heart-healthy diet : Eating a heart-healthy diet not only helps reduce your risk of developing heart disease, it also helps reduce the risk of type 2 diabetes, obesity, hypertension, metabolic syndrome, and other illnesses that can be related to lifestyle. If your doctor has advised you to lose weight and you don’t know where to start, ask to meet with a dietitian, who will be able to help you develop new eating patterns.\\nExercise : Speak with your doctor about starting an exercise plan if you don’t exercise already. For some people, regular exercise is a daily walk; for others, it’s participating in team sports. Find an activity that will keep you active and that you’ enjoy, so you’ll stick to it.\\nReduce your stress levels : This may be easier said than done, but stress can increase the risk of heart disease, so reducing stress is important. Being physically active can be one type of stress reliever, as can participating in activities such as yoga, meditation and mindfulness. Therapy with a counselor may help you learn how to manage stress.\\nQuit smoking : If you smoke and find it hard to quit, speak to your doctor about options that may help you.\\n: If you smoke and find it hard to quit, speak to your doctor about options that may help you. Undergo regular heart disease screening: Talk to your doctor about how often you should be screened for heart disease and what tests you should have.\\nIf you experience any signs or symptoms of a heart attack or stroke, call 9-1-1 immediately for emergency help.\\nLiving with a chronic disease such as psoriasis has its challenges, but by being proactive and and taking care of yourself, you can reduce your risks for heart disease and other illnesses.\\nWas this helpful? ( 88 )      1\n",
       "Photo\\nWatch a documentary on Tom Petty and the Heartbreakers and a basketball-centered episode of “StarTalk.”\\nWhat’s Streaming\\nTOM PETTY AND THE HEARTBREAKERS: RUNNIN’ DOWN A DREAM (2008) on Netflix, Amazon, and Youtube. Tom Petty, the celebrated rocker, died last week soon after wrapping up a joyous 40th anniversary tour with his indefatigable band the Heartbreakers. “He and the Heartbreakers steered clear of elaborate showmanship to let their songs and their musicianship speak for themselves,” Jon Pareles wrote in his obituary. Peter Bogdanovich’s documentary, running a whopping 238 minutes, charts the course of the Heartbreakers from their youth in Gainesville, Fla. — where an 11-year-old Tom Petty met Elvis Presley — to their rise as an international phenomenon. Interviews with friends and collaborators, such as George Harrison, Eddie Vedder and Roger McGuinn are sprinkled throughout; of course, there’s plenty of wry insight from Mr. Petty himself.\\nWhat’s On TV\\nPhoto\\nTHE TOY BOX 7 p.m. on ABC. It’s not so much a shark tank as a minnow tank. On “The Toy Box,” inventors and entrepreneurs competing for a deal with Mattel and Toys “R” Us bring their concepts to a panel of very discerning judges, ages 7 to 12. The adult mentors of last year’s first season are gone, leaving kids firmly in charge. (One of those is Noah Ritter, of “Apparently” viral fame and frequent “Ellen” appearances.) The pitches this week include singing stuffed animals, a robotic flower and a variation on the inescapable fidget spinner.\\nANTHONY BOURDAIN: PARTS UNKNOWN 9 p.m. on CNN. The genial, hard-drinking chef continues his trek around the world. It’s a delight to watch his delight in finding delectables in unexpected corners. But in this episode, he heads to a region widely renowned for its cuisine: the French Alps. He joins the French chef Eric Ripert (Le Bernardin) for some skiing, cheese, steak au poivre and more. (Watch the first eight seasons on Netflix.)\\nPhoto\\nCURB YOUR ENTHUSIASM 10 p.m. on HBO; also streaming on HBO platforms. After six years, America’s favorite curmudgeon is back to complaining about nothing and everything. This episode is called “The Pickle Gambit” (yet another cucumber-themed episode after “Rick and Morty” blessed us with “Pickle Rick”) and features familiar faces like Leon Black (J. B. Smoove) and Marty Funkhouser (Bob Einstein). Larry gives sartorial advice to a hotel guest and tries to create a diversion to help a friend’s nephew.\\nSTARTALK 11 p.m. on National Geographic. Neil deGrasse Tyson is a cultural fixture; you can find him on the talk show circuit, geeking out over “Titanic” and “Game of Thrones” and clapping back on Twitter, where imitators have poked fun at his enjoyably pompous manner. This week on his science-based TV show, he interviews Kareem Abdul-Jabbar, whose dominance on the basketball court has spilled over to many other fields, including acting and writing — he even earned the Presidential Medal of Freedom last year. Mr. Tyson also discusses the science of basketball.                                                                                                                                                                                                                                                                                                                                                                                                                                                                                                                                                                                                                                                                                                                                                                                                                                                                                                                                                                                                                                                                                                                                                                                                                                                                                                                                                                                                                                                                                                                                                                                                                                                                                                                                                                                                                                                                                                                                                                                                                                                                                                                                          1\n",
       "Vice President Mike Pence Leaves NFL Game Because of Anti-American Protests\\n% of readers think this story is Fact. Add your two cents.\\n(Before It's News)\\nBy Donn Marten -\\nVice President Mike Pence was to have attended today’s National Football League game between the Indianapolis Colts and San Francisco 49ers but chose to leave after several players chose to use his presence to make an anti-American political statement.\\nCDN – http://www.conservativedailynews.com\\nThe Colts were to have honored longtime player and future Hall of Fame quarterback Peyton Manning during a ceremony but while the home team respected the flag by standing, the actions of the opposing San Francisco 49ers were seen as sufficiently disrespectful to the Veep that he departed the venue before kickoff.\\nAs reported by Indianapolis Fox affiliate Fox 59 “VP Mike Pence leaves Colts game because 49ers players knelt during anthem”:\\nVice President Mike Pence decided to leave the Indianapolis Colts game Sunday because some 49ers players knelt during the national anthem. In a tweet, the former Indiana governor said “I left today’s Colts game because @POTUS and I will not dignify any event that disrespects our soldiers, our Flag, or our National Anthem.” Minutes after that tweet, his office released a full statement. “I left today’s Colts game because President Trump and I will not dignify any event that disrespects our soldiers, our Flag, or our National Anthem. At a time when so many Americans are inspiring our nation with their courage, resolve, and resilience, now, more than ever, we should rally around our Flag and everything that unites us. While everyone is entitled to their own opinions, I don’t think it’s too much to ask NFL players to respect the Flag and our National Anthem. I stand with President Trump, I stand with our soldiers, and I will always stand for our Flag and our National Anthem.” It was announced Friday that Pence would attend the game with the second lady. The game is special, because Peyton Manning’s jersey will be retired at halftime and he will be inducted into the Ring of Honor. Before the game, he tweeted that he was looking forward to honor “the great career of #18 Peyton Manning.” Pence’s actions will no doubt be seized on by those who have polluted the NFL with their racial grievances and hatred of President Trump as “proof” that he stands for white supremacy and Nazism but he was dead right to leave and many of the other fans in attendance should have done so as well instead of being subjected to the politics of radical leftist racial grievance mongers that have driven the league’s popularity to historic lows.\\nThe Vice President expressed the following via Twitter:\\n52m Vice President Pence ✔@VP Replying to @VP While everyone is entitled to their own opinions, I don’t think it’s too much to ask NFL players to respect the Flag and our National Anthem\\nVice President Pence ✔@VP I left today’s Colts game because @POTUS and I will not dignify any event that disrespects our soldiers, our Flag, or our National Anthem. 11:08 AM – Oct 8, 2017\\nPence was formerly the Governor of Indiana.\\nIt’s just what the NFL needed too, even more negative publicity before the early games even kicked off.\\nREAD MORE\\nVice President Mike Pence Leaves NFL Game Because of Anti-American Protests is original content from Conservative Daily News – Conservative Daily News – Where Americans go for news, current events and commentary they can trust.\\nCDN – http://www.conservativedailynews.com\\nSource: https://www.conservativedailynews.com/2017/10/vice-president-mike-pence-leaves-nfl-game-anti-american-protests/                                                                                                                                                                                                                                                                                                                                                                                                                                                                                                                                                                                                                                                                                                                                                                                                                                                                                                                                                                                                                                                                                                                                                                                                                                                                                                                                                                                                                                                                                                                          1\n",
       "Name: Body, Length: 2863, dtype: int64"
      ]
     },
     "execution_count": 9,
     "metadata": {},
     "output_type": "execute_result"
    }
   ],
   "source": [
    "#getting unique value count\n",
    "data.Body.value_counts()"
   ]
  },
  {
   "cell_type": "markdown",
   "id": "b83b6abf",
   "metadata": {},
   "source": [
    "# EDA"
   ]
  },
  {
   "cell_type": "code",
   "execution_count": 10,
   "id": "805204ea",
   "metadata": {},
   "outputs": [
    {
     "data": {
      "text/plain": [
       "<AxesSubplot:>"
      ]
     },
     "execution_count": 10,
     "metadata": {},
     "output_type": "execute_result"
    },
    {
     "data": {
      "image/png": "[encoded data removed]",
      "text/plain": [
       "<Figure size 432x288 with 1 Axes>"
      ]
     },
     "metadata": {
      "needs_background": "light"
     },
     "output_type": "display_data"
    }
   ],
   "source": [
    "data['Label'].value_counts().plot(kind=\"barh\")"
   ]
  },
  {
   "cell_type": "markdown",
   "id": "8c7274ae",
   "metadata": {},
   "source": [
    "#### Insights\n",
    "- From above lot we got to know that there is more fake news than true.."
   ]
  },
  {
   "cell_type": "code",
   "execution_count": 12,
   "id": "2bf8eab9",
   "metadata": {},
   "outputs": [],
   "source": [
    "X = data['Body']\n",
    "y = data['Label']\n"
   ]
  },
  {
   "cell_type": "code",
   "execution_count": 13,
   "id": "d3bb0848",
   "metadata": {},
   "outputs": [
    {
     "name": "stdout",
     "output_type": "stream",
     "text": [
      "0       Image copyright Getty Images\\nOn Sunday mornin...\n",
      "1       LONDON (Reuters) - “Last Flag Flying”, a comed...\n",
      "2       The feud broke into public view last week when...\n",
      "3       MEXICO CITY (Reuters) - Egypt’s Cheiron Holdin...\n",
      "4       Country singer Jason Aldean, who was performin...\n",
      "                              ...                        \n",
      "4004    Trends to Watch\\n% of readers think this story...\n",
      "4005    Trump Jr. Is Soon To Give A 30-Minute Speech F...\n",
      "4006                                                  NaN\n",
      "4007    SHANGHAI (Reuters) - China said it plans to ac...\n",
      "4008    Vice President Mike Pence Leaves NFL Game Beca...\n",
      "Name: Body, Length: 4009, dtype: object\n",
      "0       1\n",
      "1       1\n",
      "2       1\n",
      "3       1\n",
      "4       1\n",
      "       ..\n",
      "4004    0\n",
      "4005    0\n",
      "4006    0\n",
      "4007    1\n",
      "4008    0\n",
      "Name: Label, Length: 4009, dtype: int64\n"
     ]
    }
   ],
   "source": [
    "print(X)\n",
    "print(y)"
   ]
  },
  {
   "cell_type": "code",
   "execution_count": 14,
   "id": "b763bbf2",
   "metadata": {},
   "outputs": [
    {
     "data": {
      "text/plain": [
       "URLs         0\n",
       "Headline     0\n",
       "Body        21\n",
       "Label        0\n",
       "dtype: int64"
      ]
     },
     "execution_count": 14,
     "metadata": {},
     "output_type": "execute_result"
    }
   ],
   "source": [
    "#Finding missing values\n",
    "data.isnull().sum()"
   ]
  },
  {
   "cell_type": "markdown",
   "id": "71bfb207",
   "metadata": {},
   "source": [
    "- Here we can say that Body column have 21 missing values."
   ]
  },
  {
   "cell_type": "code",
   "execution_count": 15,
   "id": "93a12bb2",
   "metadata": {},
   "outputs": [],
   "source": [
    "#handling missing values\n",
    "data['Body'] = data['Body'].fillna('')"
   ]
  },
  {
   "cell_type": "code",
   "execution_count": 16,
   "id": "51517626",
   "metadata": {},
   "outputs": [
    {
     "data": {
      "text/plain": [
       "URLs        0\n",
       "Headline    0\n",
       "Body        0\n",
       "Label       0\n",
       "dtype: int64"
      ]
     },
     "execution_count": 16,
     "metadata": {},
     "output_type": "execute_result"
    }
   ],
   "source": [
    "data.isnull().sum()"
   ]
  },
  {
   "cell_type": "code",
   "execution_count": 17,
   "id": "feb4a057",
   "metadata": {},
   "outputs": [],
   "source": [
    "#Now we will drop urls, headline and body column\n",
    "data['News'] = data['Headline']+data['Body']\n",
    "dataa =['URLs','Headline','Body']\n",
    "data1 = data.drop(dataa, axis=1)"
   ]
  },
  {
   "cell_type": "code",
   "execution_count": 18,
   "id": "2b3be22b",
   "metadata": {},
   "outputs": [
    {
     "data": {
      "text/html": [
       "<div>\n",
       "<style scoped>\n",
       "    .dataframe tbody tr th:only-of-type {\n",
       "        vertical-align: middle;\n",
       "    }\n",
       "\n",
       "    .dataframe tbody tr th {\n",
       "        vertical-align: top;\n",
       "    }\n",
       "\n",
       "    .dataframe thead th {\n",
       "        text-align: right;\n",
       "    }\n",
       "</style>\n",
       "<table border=\"1\" class=\"dataframe\">\n",
       "  <thead>\n",
       "    <tr style=\"text-align: right;\">\n",
       "      <th></th>\n",
       "      <th>Label</th>\n",
       "      <th>News</th>\n",
       "    </tr>\n",
       "  </thead>\n",
       "  <tbody>\n",
       "    <tr>\n",
       "      <th>0</th>\n",
       "      <td>1</td>\n",
       "      <td>Four ways Bob Corker skewered Donald TrumpImag...</td>\n",
       "    </tr>\n",
       "    <tr>\n",
       "      <th>1</th>\n",
       "      <td>1</td>\n",
       "      <td>Linklater's war veteran comedy speaks to moder...</td>\n",
       "    </tr>\n",
       "    <tr>\n",
       "      <th>2</th>\n",
       "      <td>1</td>\n",
       "      <td>Trump’s Fight With Corker Jeopardizes His Legi...</td>\n",
       "    </tr>\n",
       "    <tr>\n",
       "      <th>3</th>\n",
       "      <td>1</td>\n",
       "      <td>Egypt's Cheiron wins tie-up with Pemex for Mex...</td>\n",
       "    </tr>\n",
       "    <tr>\n",
       "      <th>4</th>\n",
       "      <td>1</td>\n",
       "      <td>Jason Aldean opens 'SNL' with Vegas tributeCou...</td>\n",
       "    </tr>\n",
       "  </tbody>\n",
       "</table>\n",
       "</div>"
      ],
      "text/plain": [
       "   Label                                               News\n",
       "0      1  Four ways Bob Corker skewered Donald TrumpImag...\n",
       "1      1  Linklater's war veteran comedy speaks to moder...\n",
       "2      1  Trump’s Fight With Corker Jeopardizes His Legi...\n",
       "3      1  Egypt's Cheiron wins tie-up with Pemex for Mex...\n",
       "4      1  Jason Aldean opens 'SNL' with Vegas tributeCou..."
      ]
     },
     "execution_count": 18,
     "metadata": {},
     "output_type": "execute_result"
    }
   ],
   "source": [
    "data1.head()"
   ]
  },
  {
   "cell_type": "markdown",
   "id": "fc1acf15",
   "metadata": {},
   "source": [
    "## Model Creation"
   ]
  },
  {
   "cell_type": "code",
   "execution_count": 19,
   "id": "d3f733a5",
   "metadata": {},
   "outputs": [],
   "source": [
    "#Applying TF and IDF algorithm to get structured data from unstructured data\n",
    "#Importing libraries\n",
    "from sklearn.model_selection import train_test_split\n",
    "from sklearn.feature_extraction.text import TfidfVectorizer\n",
    "from sklearn.linear_model import PassiveAggressiveClassifier\n",
    "from sklearn.metrics import accuracy_score, confusion_matrix"
   ]
  },
  {
   "cell_type": "code",
   "execution_count": 21,
   "id": "9920f797",
   "metadata": {},
   "outputs": [],
   "source": [
    "#Splitting data into train and test data\n",
    "x_train,x_test,y_train,y_test = train_test_split(X,y,test_size=0.2,random_state=0)\n"
   ]
  },
  {
   "cell_type": "code",
   "execution_count": 22,
   "id": "7a4ed58a",
   "metadata": {},
   "outputs": [],
   "source": [
    "tfvect = TfidfVectorizer(stop_words='english',max_df=0.7)\n",
    "tfid_x_train = tfvect.fit_transform(x_train)\n",
    "tfid_x_test = tfvect.transform(x_test)"
   ]
  },
  {
   "cell_type": "code",
   "execution_count": 23,
   "id": "ecf310a6",
   "metadata": {},
   "outputs": [
    {
     "data": {
      "text/plain": [
       "PassiveAggressiveClassifier(max_iter=50)"
      ]
     },
     "execution_count": 23,
     "metadata": {},
     "output_type": "execute_result"
    }
   ],
   "source": [
    "classifier = PassiveAggressiveClassifier(max_iter=50)\n",
    "classifier.fit(tfid_x_train,y_train)\n"
   ]
  },
  {
   "cell_type": "code",
   "execution_count": 24,
   "id": "4757e688",
   "metadata": {},
   "outputs": [],
   "source": [
    "y_test_pred = classifier.predict(tfid_x_test)\n",
    "y_train_pred = classifier.predict(tfid_x_train)"
   ]
  },
  {
   "cell_type": "markdown",
   "id": "21ebb27d",
   "metadata": {},
   "source": [
    "### Model Evaluation"
   ]
  },
  {
   "cell_type": "code",
   "execution_count": 25,
   "id": "958d7a94",
   "metadata": {},
   "outputs": [],
   "source": [
    "scoree = accuracy_score(y_train,y_train_pred)\n",
    "score = accuracy_score(y_test,y_test_pred)\n"
   ]
  },
  {
   "cell_type": "code",
   "execution_count": 26,
   "id": "148f56c5",
   "metadata": {},
   "outputs": [
    {
     "name": "stdout",
     "output_type": "stream",
     "text": [
      "Train prediction accurate value: 0.9956345494231369\n",
      "Test prediction accurate value: 0.9825436408977556\n"
     ]
    }
   ],
   "source": [
    "print(\"Train prediction accurate value:\",scoree)\n",
    "print(\"Test prediction accurate value:\",score)"
   ]
  },
  {
   "cell_type": "markdown",
   "id": "c94d9f8f",
   "metadata": {},
   "source": [
    "## CONCLUSION"
   ]
  },
  {
   "cell_type": "markdown",
   "id": "9b0e33d3",
   "metadata": {},
   "source": [
    "#### By above performance of model we conclude that using TF/IDF algorithm model gives the best result."
   ]
  }
 ],
 "metadata": {
  "kernelspec": {
   "display_name": "Python 3 (ipykernel)",
   "language": "python",
   "name": "python3"
  },
  "language_info": {
   "codemirror_mode": {
    "name": "ipython",
    "version": 3
   },
   "file_extension": ".py",
   "mimetype": "text/x-python",
   "name": "python",
   "nbconvert_exporter": "python",
   "pygments_lexer": "ipython3",
   "version": "3.9.7"
  }
 },
 "nbformat": 4,
 "nbformat_minor": 5
}
